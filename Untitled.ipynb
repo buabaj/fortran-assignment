{
 "cells": [
  {
   "cell_type": "code",
   "execution_count": 1,
   "metadata": {},
   "outputs": [],
   "source": [
    "import pandas as pd\n",
    "import numpy as np"
   ]
  },
  {
   "cell_type": "code",
   "execution_count": null,
   "metadata": {},
   "outputs": [],
   "source": []
  },
  {
   "cell_type": "code",
   "execution_count": 10,
   "metadata": {},
   "outputs": [],
   "source": [
    "month = ['Jan', 'Feb', 'Mar', 'Apr', 'May', 'June', 'July', 'Aug', 'Sep', 'Oct', 'Nov', 'Dec']\n",
    "N = pd.read_csv('Nzone_data.csv', names='N', header=None)\n",
    "Nzone = pd.DataFrame(N)\n",
    "Nzone['month'] = month\n",
    "Nzone = pd.DataFrame(Nzone, columns=['N', 'month'])\n",
    "F = pd.read_csv('Fzone_data.csv', names='F', header=None)\n",
    "Fzone = pd.DataFrame(F)\n",
    "Fzone['month'] = month\n",
    "Fzone = pd.DataFrame(Fzone, columns=['F', 'month'])\n",
    "T = pd.read_csv('Tzone_data.csv', names='T', header=None)\n",
    "Tzone = pd.DataFrame(T)\n",
    "Tzone['month'] = month\n",
    "Fzone = pd.DataFrame(Fzone, columns=['F', 'month'])"
   ]
  },
  {
   "cell_type": "code",
   "execution_count": 11,
   "metadata": {},
   "outputs": [
    {
     "data": {
      "text/plain": [
       "Index(['T', 'month'], dtype='object')"
      ]
     },
     "execution_count": 11,
     "metadata": {},
     "output_type": "execute_result"
    }
   ],
   "source": [
    "Tzone.columns"
   ]
  },
  {
   "cell_type": "code",
   "execution_count": 22,
   "metadata": {},
   "outputs": [],
   "source": [
    "df = pd.concat([Nzone,Fzone,Tzone], axis=1).set_index('month')"
   ]
  },
  {
   "cell_type": "code",
   "execution_count": 23,
   "metadata": {},
   "outputs": [
    {
     "data": {
      "text/html": [
       "<div>\n",
       "<style scoped>\n",
       "    .dataframe tbody tr th:only-of-type {\n",
       "        vertical-align: middle;\n",
       "    }\n",
       "\n",
       "    .dataframe tbody tr th {\n",
       "        vertical-align: top;\n",
       "    }\n",
       "\n",
       "    .dataframe thead th {\n",
       "        text-align: right;\n",
       "    }\n",
       "</style>\n",
       "<table border=\"1\" class=\"dataframe\">\n",
       "  <thead>\n",
       "    <tr style=\"text-align: right;\">\n",
       "      <th></th>\n",
       "      <th>N</th>\n",
       "      <th>F</th>\n",
       "      <th>T</th>\n",
       "    </tr>\n",
       "    <tr>\n",
       "      <th>month</th>\n",
       "      <th></th>\n",
       "      <th></th>\n",
       "      <th></th>\n",
       "    </tr>\n",
       "  </thead>\n",
       "  <tbody>\n",
       "    <tr>\n",
       "      <th>(Jan, Jan, Jan)</th>\n",
       "      <td>0.900000</td>\n",
       "      <td>6.202668</td>\n",
       "      <td>14.962335</td>\n",
       "    </tr>\n",
       "    <tr>\n",
       "      <th>(Feb, Feb, Feb)</th>\n",
       "      <td>1.914667</td>\n",
       "      <td>31.144003</td>\n",
       "      <td>62.167320</td>\n",
       "    </tr>\n",
       "    <tr>\n",
       "      <th>(Mar, Mar, Mar)</th>\n",
       "      <td>13.458333</td>\n",
       "      <td>66.527330</td>\n",
       "      <td>131.055340</td>\n",
       "    </tr>\n",
       "    <tr>\n",
       "      <th>(Apr, Apr, Apr)</th>\n",
       "      <td>58.531673</td>\n",
       "      <td>130.392650</td>\n",
       "      <td>139.603670</td>\n",
       "    </tr>\n",
       "    <tr>\n",
       "      <th>(May, May, May)</th>\n",
       "      <td>90.368660</td>\n",
       "      <td>142.030690</td>\n",
       "      <td>176.851620</td>\n",
       "    </tr>\n",
       "    <tr>\n",
       "      <th>(June, June, June)</th>\n",
       "      <td>138.025970</td>\n",
       "      <td>194.465000</td>\n",
       "      <td>208.527340</td>\n",
       "    </tr>\n",
       "    <tr>\n",
       "      <th>(July, July, July)</th>\n",
       "      <td>177.100330</td>\n",
       "      <td>121.375680</td>\n",
       "      <td>107.475660</td>\n",
       "    </tr>\n",
       "    <tr>\n",
       "      <th>(Aug, Aug, Aug)</th>\n",
       "      <td>258.467960</td>\n",
       "      <td>108.241000</td>\n",
       "      <td>65.721000</td>\n",
       "    </tr>\n",
       "    <tr>\n",
       "      <th>(Sep, Sep, Sep)</th>\n",
       "      <td>206.388990</td>\n",
       "      <td>218.014680</td>\n",
       "      <td>186.287660</td>\n",
       "    </tr>\n",
       "    <tr>\n",
       "      <th>(Oct, Oct, Oct)</th>\n",
       "      <td>59.835667</td>\n",
       "      <td>165.042000</td>\n",
       "      <td>198.891020</td>\n",
       "    </tr>\n",
       "    <tr>\n",
       "      <th>(Nov, Nov, Nov)</th>\n",
       "      <td>7.593334</td>\n",
       "      <td>61.589664</td>\n",
       "      <td>92.023020</td>\n",
       "    </tr>\n",
       "    <tr>\n",
       "      <th>(Dec, Dec, Dec)</th>\n",
       "      <td>2.759000</td>\n",
       "      <td>15.639668</td>\n",
       "      <td>28.780996</td>\n",
       "    </tr>\n",
       "  </tbody>\n",
       "</table>\n",
       "</div>"
      ],
      "text/plain": [
       "                             N           F           T\n",
       "month                                                 \n",
       "(Jan, Jan, Jan)       0.900000    6.202668   14.962335\n",
       "(Feb, Feb, Feb)       1.914667   31.144003   62.167320\n",
       "(Mar, Mar, Mar)      13.458333   66.527330  131.055340\n",
       "(Apr, Apr, Apr)      58.531673  130.392650  139.603670\n",
       "(May, May, May)      90.368660  142.030690  176.851620\n",
       "(June, June, June)  138.025970  194.465000  208.527340\n",
       "(July, July, July)  177.100330  121.375680  107.475660\n",
       "(Aug, Aug, Aug)     258.467960  108.241000   65.721000\n",
       "(Sep, Sep, Sep)     206.388990  218.014680  186.287660\n",
       "(Oct, Oct, Oct)      59.835667  165.042000  198.891020\n",
       "(Nov, Nov, Nov)       7.593334   61.589664   92.023020\n",
       "(Dec, Dec, Dec)       2.759000   15.639668   28.780996"
      ]
     },
     "execution_count": 23,
     "metadata": {},
     "output_type": "execute_result"
    }
   ],
   "source": [
    "df"
   ]
  },
  {
   "cell_type": "code",
   "execution_count": 21,
   "metadata": {},
   "outputs": [],
   "source": [
    "df.to_csv('test.csv')"
   ]
  },
  {
   "cell_type": "code",
   "execution_count": null,
   "metadata": {},
   "outputs": [],
   "source": []
  }
 ],
 "metadata": {
  "kernelspec": {
   "display_name": "Python 3",
   "language": "python",
   "name": "python3"
  },
  "language_info": {
   "codemirror_mode": {
    "name": "ipython",
    "version": 3
   },
   "file_extension": ".py",
   "mimetype": "text/x-python",
   "name": "python",
   "nbconvert_exporter": "python",
   "pygments_lexer": "ipython3",
   "version": "3.7.6"
  }
 },
 "nbformat": 4,
 "nbformat_minor": 4
}
